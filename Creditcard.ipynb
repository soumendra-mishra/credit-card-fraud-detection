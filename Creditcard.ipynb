{
 "cells": [
  {
   "cell_type": "code",
   "execution_count": null,
   "id": "de1b3ce2",
   "metadata": {},
   "outputs": [],
   "source": [
    "import numpy as np\n",
    "import pandas as pd\n",
    "from sklearn.model_selection import train_test_split\n",
    "from sklearn.linear_model import LogisticRegression\n",
    "from sklearn.metrics import accuracy_score"
   ]
  },
  {
   "cell_type": "code",
   "execution_count": null,
   "id": "2e14296b",
   "metadata": {},
   "outputs": [],
   "source": [
    "cc_data = pd.read_csv('creditcard.csv')\n",
    "cc_data.head()"
   ]
  },
  {
   "cell_type": "code",
   "execution_count": null,
   "id": "679e7cb3",
   "metadata": {},
   "outputs": [],
   "source": [
    "cc_data.shape"
   ]
  },
  {
   "cell_type": "code",
   "execution_count": null,
   "id": "7ea50754",
   "metadata": {},
   "outputs": [],
   "source": [
    "cc_data.describe()"
   ]
  },
  {
   "cell_type": "code",
   "execution_count": null,
   "id": "238e51cb",
   "metadata": {},
   "outputs": [],
   "source": [
    "cc_data['Class'].value_counts()"
   ]
  },
  {
   "cell_type": "code",
   "execution_count": null,
   "id": "38facc65",
   "metadata": {},
   "outputs": [],
   "source": [
    "X = cc_data.drop('Class', axis=1)\n",
    "Y = cc_data['Class']"
   ]
  },
  {
   "cell_type": "code",
   "execution_count": null,
   "id": "23fe78a7",
   "metadata": {},
   "outputs": [],
   "source": [
    "X_train, X_test, Y_train, Y_test = train_test_split(X, Y, test_size=0.1, stratify=Y, random_state=1)"
   ]
  },
  {
   "cell_type": "code",
   "execution_count": null,
   "id": "1b4c55ae",
   "metadata": {},
   "outputs": [],
   "source": [
    "model = LogisticRegression()\n",
    "model.fit(X_train, Y_train)"
   ]
  },
  {
   "cell_type": "code",
   "execution_count": null,
   "id": "2bcba9cf",
   "metadata": {},
   "outputs": [],
   "source": [
    "training_data_accuracy = accuracy_score(model.predict(X_train), Y_train)\n",
    "print(training_data_accuracy)"
   ]
  },
  {
   "cell_type": "code",
   "execution_count": null,
   "id": "fdc51463",
   "metadata": {},
   "outputs": [],
   "source": [
    "testing_data_accuracy = accuracy_score(model.predict(X_test), Y_test)\n",
    "print(testing_data_accuracy)"
   ]
  },
  {
   "cell_type": "code",
   "execution_count": null,
   "id": "09cb4e39",
   "metadata": {},
   "outputs": [],
   "source": [
    "test_data = pd.concat([X_test, Y_test], axis=1)\n",
    "test_data = test_data.reset_index(drop=True)\n",
    "\n",
    "test_predict = pd.DataFrame(model.predict(X_test))\n",
    "test_predict.rename(columns={0:'Predicted'}, inplace=True)\n",
    "\n",
    "result = pd.concat([test_data, test_predict], axis=1)\n",
    "result"
   ]
  }
 ],
 "metadata": {
  "kernelspec": {
   "display_name": "Python 3 (ipykernel)",
   "language": "python",
   "name": "python3"
  },
  "language_info": {
   "codemirror_mode": {
    "name": "ipython",
    "version": 3
   },
   "file_extension": ".py",
   "mimetype": "text/x-python",
   "name": "python",
   "nbconvert_exporter": "python",
   "pygments_lexer": "ipython3",
   "version": "3.9.5"
  }
 },
 "nbformat": 4,
 "nbformat_minor": 5
}
